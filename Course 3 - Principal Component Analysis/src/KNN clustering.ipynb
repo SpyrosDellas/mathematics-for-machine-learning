{
 "cells": [
  {
   "cell_type": "markdown",
   "metadata": {},
   "source": [
    "## K Nearest Neighbors\n",
    "\n",
    "In this section, we will explore the [KNN classification algorithm](https://en.wikipedia.org/wiki/K-nearest_neighbors_algorithm).\n",
    "A classification algorithm takes input some data and use the data to \n",
    "determine which class (category) this piece of data belongs to.\n",
    "\n",
    "![flower](https://archive.ics.uci.edu/ml/assets/MLimages/Large53.jpg)\n",
    "\n",
    "As a motivating example, consider the [iris flower dataset](https://archive.ics.uci.edu/ml/datasets/iris). The dataset consists\n",
    "of 150 data points where each data point is a feature vector $\\boldsymbol x \\in \\mathbb{R}^4$ describing the attribute of a flower in the dataset, the four dimensions represent \n",
    "\n",
    "1. sepal length in cm \n",
    "2. sepal width in cm \n",
    "3. petal length in cm \n",
    "4. petal width in cm \n",
    "\n",
    "\n",
    "and the corresponding target $y \\in \\mathbb{Z}$ describes the class of the flower. It uses the integers $0$, $1$ and $2$ to represent the 3 classes of flowers in this dataset.\n",
    "\n",
    "0. Iris Setosa\n",
    "1. Iris Versicolour \n",
    "2. Iris Virginica\n"
   ]
  },
  {
   "cell_type": "code",
   "execution_count": 20,
   "metadata": {},
   "outputs": [],
   "source": [
    "from matplotlib.colors import ListedColormap\n",
    "from sklearn import neighbors\n",
    "from sklearn.datasets import load_iris\n",
    "import matplotlib.pyplot as plt\n",
    "import numpy as np\n"
   ]
  },
  {
   "cell_type": "code",
   "execution_count": 8,
   "metadata": {},
   "outputs": [
    {
     "name": "stdout",
     "output_type": "stream",
     "text": [
      "data shape is (150, 4)\n",
      "class shape is (150,)\n"
     ]
    }
   ],
   "source": [
    "iris = load_iris()\n",
    "print('data shape is {}'.format(iris.data.shape))\n",
    "print('class shape is {}'.format(iris.target.shape))"
   ]
  },
  {
   "cell_type": "markdown",
   "metadata": {},
   "source": [
    "For the simplicity of the exercise, we will only use the first 2 dimensions (sepal length and sepal width) of as features used to classify the flowers.\n"
   ]
  },
  {
   "cell_type": "code",
   "execution_count": 3,
   "metadata": {},
   "outputs": [
    {
     "data": {
      "text/plain": [
       "dict_keys(['data', 'target', 'frame', 'target_names', 'DESCR', 'feature_names', 'filename'])"
      ]
     },
     "execution_count": 3,
     "metadata": {},
     "output_type": "execute_result"
    }
   ],
   "source": [
    "iris.keys()"
   ]
  },
  {
   "cell_type": "code",
   "execution_count": 16,
   "metadata": {},
   "outputs": [
    {
     "data": {
      "text/plain": [
       "['sepal length (cm)',\n",
       " 'sepal width (cm)',\n",
       " 'petal length (cm)',\n",
       " 'petal width (cm)']"
      ]
     },
     "execution_count": 16,
     "metadata": {},
     "output_type": "execute_result"
    }
   ],
   "source": [
    "iris['feature_names']"
   ]
  },
  {
   "cell_type": "code",
   "execution_count": 11,
   "metadata": {},
   "outputs": [
    {
     "data": {
      "text/plain": [
       "array(['setosa', 'versicolor', 'virginica'], dtype='<U10')"
      ]
     },
     "execution_count": 11,
     "metadata": {},
     "output_type": "execute_result"
    }
   ],
   "source": [
    "iris['target_names']"
   ]
  },
  {
   "cell_type": "code",
   "execution_count": 114,
   "metadata": {},
   "outputs": [],
   "source": [
    "# use first two featurs only for simplicity\n",
    "X = iris.data[:, :2] \n",
    "y = iris.target"
   ]
  },
  {
   "cell_type": "markdown",
   "metadata": {},
   "source": [
    "We create a scatter plot of the dataset below. The x and y axis represent the sepal length and sepal width of the dataset, and the color of the points represent the different classes of flowers."
   ]
  },
  {
   "cell_type": "code",
   "execution_count": 120,
   "metadata": {},
   "outputs": [
    {
     "data": {
      "image/png": "[encoded data removed]",
      "text/plain": [
       "<Figure size 504x504 with 1 Axes>"
      ]
     },
     "metadata": {
      "needs_background": "light"
     },
     "output_type": "display_data"
    }
   ],
   "source": [
    "cmap_light = ListedColormap(['r', 'g', 'b'])\n",
    "cmap_bold = ListedColormap(['r', 'g', 'b'])\n",
    "\n",
    "fig, ax = plt.subplots(figsize=(7, 7))\n",
    "\n",
    "for i, iris_class in enumerate(iris['target_names']):\n",
    "    idx = (y==i)\n",
    "    ax.scatter(X[idx, 0], X[idx, 1], \n",
    "               c=cmap_bold.colors[i], edgecolor='k', s=20, label=iris_class);\n",
    "    \n",
    "ax.set(xlabel=iris['feature_names'][0], ylabel=iris['feature_names'][1])\n",
    "ax.legend();"
   ]
  },
  {
   "cell_type": "markdown",
   "metadata": {},
   "source": [
    "The idea behind a KNN classifier is pretty simple: Given a training set $\\boldsymbol X \\in \\mathbb{R}^{N \\times D}$ and $\\boldsymbol y \\in \\mathbb{Z}^N$, we predict the label of a new point $\\boldsymbol x \\in \\mathbb{R}^{D}$ __as the label of the majority of its \"K nearest neighbor\"__ (hence the name KNN) by some distance measure (e.g the Euclidean distance).\n",
    "Here, $N$ is the number of data points in the dataset, and $D$ is the dimensionality of the data."
   ]
  },
  {
   "cell_type": "code",
   "execution_count": 121,
   "metadata": {},
   "outputs": [],
   "source": [
    "def pairwise_distance_matrix(X, Y):\n",
    "    \"\"\"Compute the pairwise distance between rows of X and rows of Y\n",
    "\n",
    "    Arguments\n",
    "    ----------\n",
    "    X: ndarray of size (N, D)\n",
    "    Y: ndarray of size (M, D)\n",
    "    \n",
    "    Returns\n",
    "    --------\n",
    "    distance_matrix: matrix of shape (N, M), each entry distance_matrix[i,j] is the distance between\n",
    "    ith row of X and the jth row of Y (we use the dot product to compute the distance).\n",
    "    \"\"\"\n",
    "    N, D = X.shape\n",
    "    M, _ = Y.shape\n",
    "    \n",
    "    distance_vectors = (X[..., None] - Y.T[None, ...])\n",
    "    distance_matrix = np.linalg.norm(distance_vectors, axis=1)\n",
    "    \n",
    "    return distance_matrix\n"
   ]
  },
  {
   "cell_type": "code",
   "execution_count": 122,
   "metadata": {},
   "outputs": [
    {
     "data": {
      "text/plain": [
       "(array([[[1],\n",
       "         [2],\n",
       "         [3]],\n",
       " \n",
       "        [[4],\n",
       "         [5],\n",
       "         [6]]]),\n",
       " (2, 3, 1))"
      ]
     },
     "execution_count": 122,
     "metadata": {},
     "output_type": "execute_result"
    }
   ],
   "source": [
    "a = np.array([[1, 2, 3], [4, 5, 6]])\n",
    "b = np.array([[1, 2, 3], [4, 5, 6], [7, 8, 9]]) \n",
    "\n",
    "a[..., None], a[..., None].shape"
   ]
  },
  {
   "cell_type": "code",
   "execution_count": 123,
   "metadata": {},
   "outputs": [
    {
     "data": {
      "text/plain": [
       "(array([[[1, 4, 7],\n",
       "         [2, 5, 8],\n",
       "         [3, 6, 9]]]),\n",
       " (1, 3, 3))"
      ]
     },
     "execution_count": 123,
     "metadata": {},
     "output_type": "execute_result"
    }
   ],
   "source": [
    "b.T[None, ...], b.T[None, ...].shape"
   ]
  },
  {
   "cell_type": "code",
   "execution_count": 124,
   "metadata": {},
   "outputs": [
    {
     "data": {
      "text/plain": [
       "array([[[ 0, -3, -6],\n",
       "        [ 0, -3, -6],\n",
       "        [ 0, -3, -6]],\n",
       "\n",
       "       [[ 3,  0, -3],\n",
       "        [ 3,  0, -3],\n",
       "        [ 3,  0, -3]]])"
      ]
     },
     "execution_count": 124,
     "metadata": {},
     "output_type": "execute_result"
    }
   ],
   "source": [
    "a[..., None] - b.T[None, ...]"
   ]
  },
  {
   "cell_type": "code",
   "execution_count": 125,
   "metadata": {},
   "outputs": [],
   "source": [
    "def KNN(k, X, y, x):\n",
    "    \"\"\"K nearest neighbors\n",
    "    k: number of nearest neighbors\n",
    "    X: training input locations\n",
    "    y: training labels\n",
    "    x: test input\n",
    "    \"\"\"\n",
    "    N, D = X.shape\n",
    "    num_classes = len(np.unique(y))    \n",
    "    \n",
    "    # This code block is only used because the autograder sometimes passes 1D arrays as x\n",
    "    if len(x.shape) == 1:\n",
    "        x_ = x.reshape(1, -1)\n",
    "    else:\n",
    "        x_ = x\n",
    "    \n",
    "    # We have to use .ravel() to collapse the resulting 2D matrix to 1D\n",
    "    dist = pairwise_distance_matrix(X, x_).ravel()\n",
    "    \n",
    "    classes = y[np.argsort(dist)][:k]     # find the labels of the k nearest neighbors\n",
    "    \n",
    "    # Next we make the predictions\n",
    "    ypred = np.zeros(num_classes)\n",
    "    for c in np.unique(classes):\n",
    "        ypred[c] = (classes == c).sum()\n",
    "    \n",
    "    return np.argmax(ypred)              \n"
   ]
  },
  {
   "cell_type": "markdown",
   "metadata": {},
   "source": [
    "We can also visualize the \"decision boundary\" of the KNN classifier, which is the region of a problem space in which the output label of a classifier is ambiguous. This would help us develop an intuition of how KNN behaves in practice. The code below plots the decision boundary."
   ]
  },
  {
   "cell_type": "code",
   "execution_count": 131,
   "metadata": {},
   "outputs": [
    {
     "data": {
      "image/png": "[encoded data removed]",
      "text/plain": [
       "<Figure size 1008x1008 with 1 Axes>"
      ]
     },
     "metadata": {
      "needs_background": "light"
     },
     "output_type": "display_data"
    }
   ],
   "source": [
    "x_min, x_max = X[:, 0].min() - 1, X[:, 0].max() + 1\n",
    "y_min, y_max = X[:, 1].min() - 1, X[:, 1].max() + 1\n",
    "\n",
    "step = 0.03\n",
    "xx, yy = np.meshgrid(np.arange(x_min, x_max, step), np.arange(y_min, y_max, step))\n",
    "\n",
    "ypred = []\n",
    "K = 3\n",
    "\n",
    "for data in np.array([xx.ravel(), yy.ravel()]).T:\n",
    "    ypred.append(KNN(K, X, y, data.reshape(1, 2)))\n",
    "\n",
    "fig, ax = plt.subplots(figsize=(14, 14))\n",
    "\n",
    "ax.pcolormesh(xx, yy, np.array(ypred).reshape(xx.shape), cmap=cmap_light, shading='auto')\n",
    "\n",
    "ax.scatter(X[:, 0], X[:, 1], c=y, cmap=cmap_bold, edgecolor='k', s=20)\n",
    "\n",
    "plt.show()"
   ]
  },
  {
   "cell_type": "code",
   "execution_count": null,
   "metadata": {},
   "outputs": [],
   "source": []
  }
 ],
 "metadata": {
  "kernelspec": {
   "display_name": "Python 3",
   "language": "python",
   "name": "python3"
  },
  "language_info": {
   "codemirror_mode": {
    "name": "ipython",
    "version": 3
   },
   "file_extension": ".py",
   "mimetype": "text/x-python",
   "name": "python",
   "nbconvert_exporter": "python",
   "pygments_lexer": "ipython3",
   "version": "3.7.9"
  }
 },
 "nbformat": 4,
 "nbformat_minor": 4
}
